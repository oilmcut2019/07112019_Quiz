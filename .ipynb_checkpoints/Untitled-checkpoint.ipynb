{
 "cells": [
  {
   "cell_type": "markdown",
   "metadata": {},
   "source": [
    "yi\n",
    "3.http://www.mypythonquiz.com/question.php?qid=160<br>\n",
    "5.http://www.mypythonquiz.com/question.php?qid=162<br>\n",
    "6.http://www.mypythonquiz.com/question.php?qid=163<br>\n",
    "9.http://www.mypythonquiz.com/question.php?qid=178<br>\n",
    "11.http://www.mypythonquiz.com/question.php?qid=180<br>\n",
    "16.http://www.mypythonquiz.com/question.php?qid=191<br>\n",
    "17.http://www.mypythonquiz.com/question.php?qid=192<br>\n",
    "20.http://www.mypythonquiz.com/question.php?qid=196<br>\n",
    "22.http://www.mypythonquiz.com/question.php?qid=198<br>\n",
    "28.http://www.mypythonquiz.com/question.php?qid=244<br>\n",
    "35.http://www.mypythonquiz.com/question.php?qid=251<br>\n",
    "38.http://www.mypythonquiz.com/question.php?qid=254<br>\n",
    "43.http://www.mypythonquiz.com/question.php?qid=259<br>\n",
    "45.http://www.mypythonquiz.com/question.php?qid=261<br>\n",
    "47.http://www.mypythonquiz.com/question.php?qid=263<br>\n",
    "53.http://www.mypythonquiz.com/question.php?qid=270<br>\n",
    "54.http://www.mypythonquiz.com/question.php?qid=271<br>\n",
    "66.http://www.mypythonquiz.com/question.php?qid=286<br>\n",
    "69.http://www.mypythonquiz.com/question.php?qid=289<br>\n",
    "70.http://www.mypythonquiz.com/question.php?qid=290<br>"
   ]
  },
  {
   "cell_type": "markdown",
   "metadata": {},
   "source": [
    "jia\n",
    "2.http://www.mypythonquiz.com/question.php?qid=159<br>\n",
    "4.http://www.mypythonquiz.com/question.php?qid=161<br>\n",
    "7.http://www.mypythonquiz.com/question.php?qid=176<br>\n",
    "10.http://www.mypythonquiz.com/question.php?qid=179<br>\n",
    "12.http://www.mypythonquiz.com/question.php?qid=181<br>\n",
    "15.http://www.mypythonquiz.com/question.php?qid=189<br>\n",
    "21.http://www.mypythonquiz.com/question.php?qid=197<br>\n",
    "26.http://www.mypythonquiz.com/question.php?qid=242<br>\n",
    "36.http://www.mypythonquiz.com/question.php?qid=252<br>\n",
    "37.http://www.mypythonquiz.com/question.php?qid=253<br>\n",
    "39.http://www.mypythonquiz.com/question.php?qid=255<br>\n",
    "42.http://www.mypythonquiz.com/question.php?qid=258<br>\n",
    "44.http://www.mypythonquiz.com/question.php?qid=260<br>\n",
    "46.http://www.mypythonquiz.com/question.php?qid=262<br>\n",
    "49.http://www.mypythonquiz.com/question.php?qid=265<br>\n",
    "51.http://www.mypythonquiz.com/question.php?qid=268<br>\n",
    "65.http://www.mypythonquiz.com/question.php?qid=285<br>\n",
    "67.http://www.mypythonquiz.com/question.php?qid=287<br>\n",
    "68.http://www.mypythonquiz.com/question.php?qid=288<br>\n",
    "71.http://www.mypythonquiz.com/question.php?qid=291<br>"
   ]
  },
  {
   "cell_type": "code",
   "execution_count": null,
   "metadata": {},
   "outputs": [],
   "source": []
  }
 ],
 "metadata": {
  "kernelspec": {
   "display_name": "Python 3",
   "language": "python",
   "name": "python3"
  },
  "language_info": {
   "codemirror_mode": {
    "name": "ipython",
    "version": 3
   },
   "file_extension": ".py",
   "mimetype": "text/x-python",
   "name": "python",
   "nbconvert_exporter": "python",
   "pygments_lexer": "ipython3",
   "version": "3.7.3"
  },
  "nbTranslate": {
   "displayLangs": [
    "*"
   ],
   "hotkey": "alt-t",
   "langInMainMenu": true,
   "sourceLang": "en",
   "targetLang": "fr",
   "useGoogleTranslate": true
  },
  "toc": {
   "base_numbering": 1,
   "nav_menu": {},
   "number_sections": true,
   "sideBar": true,
   "skip_h1_title": false,
   "title_cell": "Table of Contents",
   "title_sidebar": "Contents",
   "toc_cell": false,
   "toc_position": {},
   "toc_section_display": true,
   "toc_window_display": false
  },
  "varInspector": {
   "cols": {
    "lenName": 16,
    "lenType": 16,
    "lenVar": 40
   },
   "kernels_config": {
    "python": {
     "delete_cmd_postfix": "",
     "delete_cmd_prefix": "del ",
     "library": "var_list.py",
     "varRefreshCmd": "print(var_dic_list())"
    },
    "r": {
     "delete_cmd_postfix": ") ",
     "delete_cmd_prefix": "rm(",
     "library": "var_list.r",
     "varRefreshCmd": "cat(var_dic_list()) "
    }
   },
   "types_to_exclude": [
    "module",
    "function",
    "builtin_function_or_method",
    "instance",
    "_Feature"
   ],
   "window_display": false
  }
 },
 "nbformat": 4,
 "nbformat_minor": 2
}
