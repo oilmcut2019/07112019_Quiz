{
 "cells": [
  {
   "cell_type": "markdown",
   "metadata": {},
   "source": [
    "3.<class'NoneType'><br>\n",
    "5.<class'function'><br>\n",
    "6.6<br>\n",
    "9.2.0<br>\n",
    "11.yes<br>\n",
    "16.HI!<br>\n",
    "17.20<br>\n",
    "20.to<br>\n",
    "22.0, 1, 4, 5<br>\n",
    "28.An exception is thrown22.0, 1, 4, 5<br>\n",
    "35.<class'dict'>22.0, 1, 4, 5<br>\n",
    "38.4<br>\n",
    "43.2<br>\n",
    "45.12<br>\n",
    "47.2<br>\n",
    "53.An exception is thrown<br>\n",
    "54.2 1<br>\n",
    "66.6<br>\n",
    "69.6<br>\n",
    "70.51<br>"
   ]
  },
  {
   "cell_type": "markdown",
   "metadata": {},
   "source": [
    "2.<class'list'><br>\n",
    "4.<class'complex'><br>\n",
    "7.<class'float'><br>\n",
    "10.4<br>\n",
    "12.3<br>\n",
    "15.\\nwoow<br>\n",
    "21.ERROR, this code will not run<br>\n",
    "26.5<br>\n",
    "36.<class 'tuple'><br>\n",
    "37.3<br>\n",
    "39.6<br>\n",
    "42.0<br>\n",
    "44.0<br>\n",
    "46.An exception is thrown<br>\n",
    "49.8<br>\n",
    "51.8<br>\n",
    "65.10<br>\n",
    "67.10<br>\n",
    "68.6<br>\n",
    "71.foo <br>"
   ]
  },
  {
   "cell_type": "code",
   "execution_count": null,
   "metadata": {},
   "outputs": [],
   "source": []
  }
 ],
 "metadata": {
  "kernelspec": {
   "display_name": "Python 3",
   "language": "python",
   "name": "python3"
  },
  "language_info": {
   "codemirror_mode": {
    "name": "ipython",
    "version": 3
   },
   "file_extension": ".py",
   "mimetype": "text/x-python",
   "name": "python",
   "nbconvert_exporter": "python",
   "pygments_lexer": "ipython3",
   "version": "3.7.3"
  },
  "nbTranslate": {
   "displayLangs": [
    "*"
   ],
   "hotkey": "alt-t",
   "langInMainMenu": true,
   "sourceLang": "en",
   "targetLang": "fr",
   "useGoogleTranslate": true
  },
  "toc": {
   "base_numbering": 1,
   "nav_menu": {},
   "number_sections": true,
   "sideBar": true,
   "skip_h1_title": false,
   "title_cell": "Table of Contents",
   "title_sidebar": "Contents",
   "toc_cell": false,
   "toc_position": {},
   "toc_section_display": true,
   "toc_window_display": false
  },
  "varInspector": {
   "cols": {
    "lenName": 16,
    "lenType": 16,
    "lenVar": 40
   },
   "kernels_config": {
    "python": {
     "delete_cmd_postfix": "",
     "delete_cmd_prefix": "del ",
     "library": "var_list.py",
     "varRefreshCmd": "print(var_dic_list())"
    },
    "r": {
     "delete_cmd_postfix": ") ",
     "delete_cmd_prefix": "rm(",
     "library": "var_list.r",
     "varRefreshCmd": "cat(var_dic_list()) "
    }
   },
   "types_to_exclude": [
    "module",
    "function",
    "builtin_function_or_method",
    "instance",
    "_Feature"
   ],
   "window_display": false
  }
 },
 "nbformat": 4,
 "nbformat_minor": 2
}
